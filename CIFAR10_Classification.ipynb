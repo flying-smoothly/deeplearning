{
  "cells": [
    {
      "cell_type": "markdown",
      "source": [
        "# ***Final Project***\n",
        "---\n",
        "\n",
        "In this project, you will develop a convolutional neural network (CNN) to perform classification, and test it out on the CIFAR-10 dataset.\n",
        "\n",
        "\n",
        "The given code is a simple implement for the CIFAR-10 classification.\n",
        "\n",
        "The goal of the final project is to check whether you understand important concepts for training CNN such as:\n",
        "\n",
        "*   Network architecture\n",
        "*   Optimization\n",
        "*   Loss function\n",
        "*   Data preprocessing\n",
        "*   Regularization\n",
        "*   ...\n",
        "\n",
        "Therefore, you can **modify the given code to improve the performance** of the network **except for the dataset (i.e. trainset and testset)**.\n",
        "\n",
        "You should **upload your code and your report** including an explaination of your code and what you have changed or added."
      ],
      "metadata": {
        "id": "8H2mplXJU1d6"
      }
    },
    {
      "cell_type": "code",
      "execution_count": null,
      "metadata": {
        "id": "Fr9zgCgCmdNq"
      },
      "outputs": [],
      "source": [
        "# AS usual, a bit of setup\n",
        "# If you need other libraries, you should import the libraries.\n",
        "\n",
        "import os, sys\n",
        "import torch\n",
        "from torch import nn\n",
        "from torch.nn import functional as F\n",
        "\n",
        "import torchvision\n",
        "import torchvision.transforms as transforms\n",
        "import torchvision.datasets as datasets # torchvision.datasets을 호출함으로서 CIFAR-10 dataset을 사용할 수 있습니다.\n",
        "\n",
        "import matplotlib.pyplot as plt\n",
        "import numpy as np"
      ]
    },
    {
      "cell_type": "code",
      "execution_count": null,
      "metadata": {
        "colab": {
          "base_uri": "https://localhost:8080/"
        },
        "id": "V9pg5nB1pXEO",
        "outputId": "31b1fc3a-518f-41ed-bf77-38c32aad5f78"
      },
      "outputs": [
        {
          "output_type": "stream",
          "name": "stdout",
          "text": [
            "cuda\n"
          ]
        }
      ],
      "source": [
        "# Set the device\n",
        "device = 'cuda' if torch.cuda.is_available() else 'cpu'\n",
        "print(device)"
      ]
    },
    {
      "cell_type": "markdown",
      "source": [
        "# **Data Loader**\n",
        "\n",
        "You can load the CIFAR-10 dataset using the library `torchvision.datasets`\n",
        "\n",
        "The details of CIFAR-10 dataset can be found in https://www.cs.toronto.edu/~kriz/cifar.html\n",
        "\n",
        "`transforms_cifar10` is used to assemble several transforms for data preprossing."
      ],
      "metadata": {
        "id": "q-G1AJVsbqwc"
      }
    },
    {
      "cell_type": "code",
      "execution_count": null,
      "metadata": {
        "colab": {
          "base_uri": "https://localhost:8080/"
        },
        "id": "HOEFPBpcmmHU",
        "outputId": "5820b524-45db-49b6-b765-e4e2f6a591c0"
      },
      "outputs": [
        {
          "output_type": "stream",
          "name": "stdout",
          "text": [
            "Downloading https://www.cs.toronto.edu/~kriz/cifar-10-python.tar.gz to ./data/cifar-10-python.tar.gz\n"
          ]
        },
        {
          "output_type": "stream",
          "name": "stderr",
          "text": [
            "100%|██████████| 170498071/170498071 [00:03<00:00, 48324235.69it/s]\n"
          ]
        },
        {
          "output_type": "stream",
          "name": "stdout",
          "text": [
            "Extracting ./data/cifar-10-python.tar.gz to ./data\n",
            "Files already downloaded and verified\n"
          ]
        }
      ],
      "source": [
        "transforms_cifar10 = transforms.Compose([ #여러 가지 이미지 변환 작업을 연속적으로 적용할 수 있게 해주는 PyTorch 함수입니다.\n",
        "                                  transforms.Resize((32, 32)), #cifar10 dataset 내 image의 크기를 32*32로 조정합니다. CIFAR-10 데이터셋의 이미지 크기는 이미 32x32이므로 이 변환은 필요 없습니다.\n",
        "                                  transforms.ToTensor(), #로드한 이미지를 PyTorch 텐서로 변환합니다. 이 변환작업은 이미지의 픽셀 값을 [0, 255]에서 [0.0, 1.0] 범위로 정규화합니다.\n",
        "                                  transforms.Normalize((0.5, 0.5, 0.5), (0.5, 0.5, 0.5)) #각 채널(R, G, B)의 평균을 0.5, 표준편차를 0.5로 설정하여 정규화합니다.\n",
        "                                    #정규화된 결과는 [0, 1] 범위에서 [-1, 1] 범위로 변환됩니다.\n",
        "                                 ])\n",
        "\n",
        "# Train dataset\n",
        "trainset = datasets.CIFAR10(root='./data', train=True, download=True, transform=transforms_cifar10)\n",
        "#CIFAR-10 데이터셋의 훈련 데이터를 로드합니다. root='./data': 데이터셋을 저장할 경로입니다.\n",
        "#train=True: 훈련 데이터를 로드하겠다는 의미입니다.\n",
        "#download=True: 데이터셋이 로컬에 없으면 인터넷에서 다운로드합니다.\n",
        "#transform=transforms_cifar10: 앞서 정의한 이미지 변환을 적용합니다.\n",
        "trainloader = torch.utils.data.DataLoader(trainset, batch_size=4, shuffle=True, num_workers=2)\n",
        "#데이터셋을 로드하고 미니배치로 분할하는 PyTorch의 DataLoader입니다.\n",
        "#trainset: 로드할 데이터셋입니다.\n",
        "#batch_size=4: 미니배치 크기를 4로 설정합니다.\n",
        "#shuffle=True: 에폭마다 데이터를 섞습니다.\n",
        "#num_workers=2: 데이터 로딩을 위해 사용할 병렬 프로세스 수입니다.\n",
        "\n",
        "# Test dataset\n",
        "testset = datasets.CIFAR10(root='./data', train=False, download=True, transform=transforms_cifar10)\n",
        "#CIFAR-10 데이터셋의 테스트 데이터를 로드합니다.\n",
        "#train=False: 테스트 데이터를 로드하겠다는 의미입니다.\n",
        "testloader = torch.utils.data.DataLoader(testset, batch_size=4, shuffle=False, num_workers=2)\n",
        "#테스트 데이터셋을 로드하고 미니배치로 분할하는 DataLoader입니다.\n",
        "#shuffle=False: 테스트 데이터는 섞지 않습니다.\n",
        "\n",
        "# Classes of CIFAR-10 dataset\n",
        "classes = (\"plane\", \"car\", \"bird\", \"cat\", \"deer\", \"dog\", \"frog\", \"horse\", \"ship\", \"truck\")\n",
        "#CIFAR-10 데이터셋의 클래스(라벨) 이름입니다. 각 클래스는 10가지로 구성되어 있습니다."
      ]
    },
    {
      "cell_type": "code",
      "execution_count": null,
      "metadata": {
        "colab": {
          "base_uri": "https://localhost:8080/",
          "height": 248
        },
        "id": "d7JdtMAzoCac",
        "outputId": "81deb1c7-7dae-49de-9ecd-4a5a01cc8f85"
      },
      "outputs": [
        {
          "output_type": "stream",
          "name": "stderr",
          "text": [
            "/usr/lib/python3.10/multiprocessing/popen_fork.py:66: RuntimeWarning: os.fork() was called. os.fork() is incompatible with multithreaded code, and JAX is multithreaded, so this will likely lead to a deadlock.\n",
            "  self.pid = os.fork()\n"
          ]
        },
        {
          "output_type": "stream",
          "name": "stdout",
          "text": [
            "truck  deer  ship   car\n"
          ]
        },
        {
          "output_type": "display_data",
          "data": {
            "text/plain": [
              "<Figure size 640x480 with 1 Axes>"
            ],
            "image/png": "[encoded data removed]"
          },
          "metadata": {}
        }
      ],
      "source": [
        "# Examples of dataset\n",
        "\n",
        "def imshow(img):\n",
        "  img = img /2 + 0.5\n",
        "  npimg = img.numpy()\n",
        "  plt.imshow(np.transpose(npimg, (1, 2, 0)))\n",
        "#def imshow(img): 이미지를 시각화하는 함수입니다.\n",
        "#img = img / 2 + 0.5: 앞서 정규화된 이미지를 역정규화하여 [0, 1] 범위로 변환합니다. CIFAR-10 데이터셋 이미지는 정규화되어 [-1, 1] 범위에 있습니다.\n",
        "#npimg = img.numpy(): PyTorch 텐서를 NumPy 배열로 변환합니다.\n",
        "#plt.imshow(np.transpose(npimg, (1, 2, 0))): 이미지를 시각화합니다. np.transpose(npimg, (1, 2, 0))는 이미지의 채널 순서를 변경하여 (높이, 너비, 채널) 형식으로 변환합니다.\n",
        "\n",
        "dataiter = iter(trainloader)\n",
        "#dataiter = iter(trainloader): 훈련 데이터셋을 반복할 수 있는 이터레이터를 생성합니다.\n",
        "###iteration은 전체 데이터를 학습하는 1번의 epoch 중 설정한 batch 사이즈에 따라 epoch 내에서 총 dataset/batch size 번 학습하는 수 입니다.\n",
        "imgs, labels = next(dataiter)\n",
        "#imgs, labels = next(dataiter): 이터레이터에서 배치를 하나 가져옵니다. imgs는 이미지들로, labels는 해당 이미지들의 레이블들입니다.\n",
        "imshow(torchvision.utils.make_grid(imgs))\n",
        "#imshow(torchvision.utils.make_grid(imgs)): torchvision.utils.make_grid는 여러 이미지를 격자로 배치한 이미지를 만듭니다. imshow 함수는 이 격자 이미지를 시각화합니다.\n",
        "print(' '.join('%5s' % classes[labels[j]] for j in range(4)))\n",
        "#print(' '.join('%5s' % classes[labels[j]] for j in range(4))): 현재 배치에 있는 이미지들의 레이블을 출력합니다.\n",
        "#' '.join(...): 레이블들을 공백으로 구분하여 하나의 문자열로 만듭니다.\n",
        "#'%5s' % classes[labels[j]]: 각 레이블을 5칸의 문자열로 형식화합니다.\n",
        "#for j in range(4): 배치에서 처음 4개의 이미지의 레이블을 가져옵니다."
      ]
    },
    {
      "cell_type": "markdown",
      "source": [
        "# **Your own CNN**\n",
        "\n",
        "You can implement your own network using libraries such as `torch.nn`and `torch.nn.functional`.\n",
        "\n",
        "`SimpleNet` and `VGG11` are examples to help your understand the implementation of the network.\n",
        "\n",
        "So, you can modify the given codes or create another awesome neural network for CIFAR-10 classification."
      ],
      "metadata": {
        "id": "Y77itjthc5Xh"
      }
    },
    {
      "cell_type": "code",
      "execution_count": null,
      "metadata": {
        "id": "068wqyqdo_fc"
      },
      "outputs": [],
      "source": [
        "# Model\n",
        "\n",
        "class SimpleNet(nn.Module):\n",
        "    def __init__(self):\n",
        "        super(SimpleNet, self).__init__() #super(SimpleNet, self).__init__(): 부모 클래스 nn.Module의 초기화 메서드를 호출합니다.\n",
        "        self.conv1 = nn.Conv2d(3, 6, 5) #첫 번째 합성곱 층입니다. 3개의 입력 채널(RGB 이미지), 6개의 출력 채널, 5x5의 커널 크기를 사용합니다.\n",
        "        #(input channel, output channel, kernel_size, stride, padding) 에서 stride와 padding은 생략 가능합니다.\n",
        "        self.pool = nn.MaxPool2d(2, 2) #최대 풀링 층입니다. 2x2 풀링 창을 사용합니다.\n",
        "        self.conv2 = nn.Conv2d(6, 16, 5) #두 번째 합성곱 층입니다. 6개의 입력 채널, 16개의 출력 채널, 5x5의 커널 크기를 사용합니다.\n",
        "\n",
        "        self.fc1 = nn.Linear(16 * 5 * 5, 120) #첫 번째 완전 연결 층입니다. 입력 크기는 16 * 5 * 5이고 출력 크기는 120입니다.\n",
        "        self.fc2 = nn.Linear(120, 84) #두 번째 완전 연결 층입니다. 입력 크기는 120이고 출력 크기는 84입니다.\n",
        "        self.fc3 = nn.Linear(84, 10) #세 번째 완전 연결 층입니다. 입력 크기는 84이고 출력 크기는 10입니다. CIFAR-10 데이터셋의 10개의 클래스를 예측합니다.\n",
        "\n",
        "    def forward(self, x): #순전파(forward) 메서드입니다. 입력 텐서 x를 받아 출력 텐서를 반환합니다.\n",
        "        x = self.pool(F.relu(self.conv1(x))) #첫 번째 합성곱 층을 적용한 후, ReLU 활성화 함수와 최대 풀링을 적용합니다.\n",
        "        x = self.pool(F.relu(self.conv2(x))) #두 번째 합성곱 층을 적용한 후, ReLU 활성화 함수와 최대 풀링을 적용합니다.\n",
        "        x = x.view(-1, 16 * 5 * 5) #텐서를 일렬로 펼칩니다. 이 단계는 합성곱 층에서 완전 연결 층으로 넘어갈 때 필요합니다.\n",
        "        x = F.relu(self.fc1(x)) #첫 번째 완전 연결 층을 적용한 후, ReLU 활성화 함수를 적용합니다.\n",
        "        x = F.relu(self.fc2(x)) #두 번째 완전 연결 층을 적용한 후, ReLU 활성화 함수를 적용합니다.\n",
        "        x = self.fc3(x) #세 번째 완전 연결 층을 적용하여 최종 출력을 얻습니다.\n",
        "        return x\n",
        "\n",
        "\n",
        "net = SimpleNet().to(device) #SimpleNet 클래스의 인스턴스를 생성합니다. 모델을 지정된 장치(device)로 이동시킵니다. 일반적으로 이는 CPU 또는 GPU를 의미합니다.\n",
        "\n",
        "#SimpleNet 모델은 두 개의 합성곱 층과 세 개의 완전 연결 층으로 구성됩니다.\n",
        "#각 합성곱 층 뒤에는 ReLU 활성화 함수와 최대 풀링 층이 있고, 완전 연결 층은 ReLU 활성화 함수를 사용합니다. 모델의 인스턴스를 생성하고 지정된 장치로 이동시킵니다."
      ]
    },
    {
      "cell_type": "code",
      "execution_count": null,
      "metadata": {
        "id": "11oMT_o1mnL2"
      },
      "outputs": [],
      "source": [
        "# VGG Model\n",
        "\n",
        "cfg = {'VGG11': [64, 'M', 128, 'M', 256, 256, 'M', 512, 512, 'M', 512, 512, 'M']}\n",
        "#cfg: VGG11 모델의 구조를 정의하는 설정입니다. 숫자는 각 합성곱 층의 출력 채널 수를 의미하고, 'M'은 최대 풀링(Max Pooling) 층을 의미합니다.\n",
        "class VGG11(nn.Module):\n",
        "    def __init__(self):\n",
        "        super(VGG11, self).__init__()\n",
        "        self.features = self.make_layers(cfg['VGG11'])\n",
        "        self.classifier = nn.Linear(512, 10)\n",
        "#super(VGG11, self).__init__(): 부모 클래스 nn.Module의 초기화 메서드를 호출합니다.\n",
        "#self.features = self.make_layers(cfg['VGG11']): VGG11의 특징 추출기 부분을 정의합니다. make_layers 메서드를 사용하여 cfg['VGG11']에 정의된 구조로 레이어를 생성합니다.\n",
        "#self.classifier = nn.Linear(512, 10): 분류기를 정의합니다. 512개의 입력 특징을 받아 10개의 출력 클래스를 생성합니다(CIFAR-10 데이터셋의 10개 클래스).\n",
        "    def make_layers(self, cfg):\n",
        "        layers = []\n",
        "        in_channels = 3\n",
        "        for x in cfg:\n",
        "            if x == 'M':\n",
        "                layers += [nn.MaxPool2d(kernel_size=2, stride=2)]\n",
        "            else:\n",
        "                layers += [nn.Conv2d(in_channels, x, kernel_size=3, padding=1),\n",
        "                           nn.BatchNorm2d(x),\n",
        "                           nn.ReLU(inplace=True)]\n",
        "                in_channels = x\n",
        "        layers += [nn.AvgPool2d(kernel_size=1, stride=1)]\n",
        "        return nn.Sequential(*layers)\n",
        "#def make_layers(self, cfg): cfg에 정의된 구조에 따라 레이어를 생성합니다.\n",
        "    #layers = []: 레이어를 담을 리스트를 초기화합니다.\n",
        "    #in_channels = 3: 초기 입력 채널 수를 3으로 설정합니다(RGB 이미지).\n",
        "    #for x in cfg: cfg 리스트를 순회하며 레이어를 생성합니다.\n",
        "        #if x == 'M': 'M'은 최대 풀링(Max Pooling) 층을 의미합니다.\n",
        "             #layers += [nn.MaxPool2d(kernel_size=2, stride=2)]: 2x2 최대 풀링 층을 추가합니다.\n",
        "        #else: 숫자는 합성곱 층의 출력 채널 수를 의미합니다.\n",
        "             #layers += [nn.Conv2d(in_channels, x, kernel_size=3, padding=1)]: 합성곱 층을 추가합니다.\n",
        "                        #nn.BatchNorm2d(x): 배치 정규화 층을 추가합니다.\n",
        "                        #nn.ReLU(inplace=True): ReLU 활성화 함수를 추가합니다.\n",
        "             #in_channels = x: 출력 채널 수를 업데이트합니다.\n",
        "    #layers += [nn.AvgPool2d(kernel_size=1, stride=1)]: 평균 풀링 층을 추가합니다.\n",
        "    #return nn.Sequential(*layers): 레이어 리스트를 nn.Sequential로 묶어 반환합니다.\n",
        "\n",
        "    def forward(self, x):\n",
        "        out = self.features(x)\n",
        "        out = out.view(out.size(0), -1)\n",
        "        out = self.classifier(out)\n",
        "        return out\n",
        "#def forward(self, x): 순전파(forward) 메서드입니다.\n",
        "    #out = self.features(x): 입력 x에 대해 특징 추출기 부분을 적용합니다.\n",
        "    #out = out.view(out.size(0), -1): 텐서를 일렬로 펼칩니다. 배치 크기를 유지하고 나머지 차원들을 평탄화합니다.\n",
        "    #out = self.classifier(out): 펼쳐진 텐서에 대해 분류기를 적용합니다.\n",
        "    #return out: 최종 출력을 반환합니다.\n",
        "\n",
        "net = VGG11().to(device)\n",
        "#net = VGG11(): VGG11 클래스의 인스턴스를 생성합니다.\n",
        "#.to(device): 모델을 지정된 장치(device)로 이동시킵니다. 일반적으로 이는 CPU 또는 GPU를 의미합니다.\n",
        "\n",
        "#이 코드는 VGG11 모델을 정의하고 초기화합니다. cfg를 사용하여 모델의 구조를 정의하고, make_layers 메서드를 통해 합성곱 층과 풀링 층을 생성합니다.\n",
        "#forward 메서드는 입력 데이터를 특징 추출기와 분류기를 통해 순전파하여 최종 출력을 생성합니다. 모델의 인스턴스를 생성하고 지정된 장치로 이동시킵니다."
      ]
    },
    {
      "cell_type": "markdown",
      "source": [
        "# **Loss function and optimizer**\n",
        "\n",
        "Set the **loss function and optimizer** for training CNN.\n",
        "You can modify the loss function or optimizer for better performance."
      ],
      "metadata": {
        "id": "SXLnGlLgdyZ2"
      }
    },
    {
      "cell_type": "code",
      "execution_count": null,
      "metadata": {
        "id": "oB0f6C2npeoj"
      },
      "outputs": [],
      "source": [
        "# Loss function and optimizer\n",
        "#손실 함수 (Loss Function):\n",
        "criterion = nn.CrossEntropyLoss() #criterion = nn.CrossEntropyLoss(): 손실 함수로 교차 엔트로피 손실을 사용해 모델의 출력과 실제 레이블 간의 차이를 계산하여 손실 값을 반환합니다.\n",
        "\n",
        "#최적화 알고리즘 (Optimizer):\n",
        "optimizer = torch.optim.Adam(net.parameters(), lr=0.001) #최적화 알고리즘으로 Adam 옵티마이저를 사용합니다.\n",
        "#net.parameters(): 모델 net의 학습 가능한 파라미터들을 옵티마이저에 전달합니다.\n",
        "#lr=0.001: 학습률(learning rate)을 0.001로 설정합니다. 학습률은 각 파라미터 업데이트의 크기를 결정합니다.\n",
        "\n",
        "#학습률 스케줄러 (Learning Rate Scheduler):\n",
        "scheduler = torch.optim.lr_scheduler.StepLR(optimizer, step_size=10, gamma=0.1) #학습률 스케줄러를 설정합니다.\n",
        "torch.optim.lr_scheduler.StepLR: 일정한 에폭 간격(step size)마다 학습률을 조정하는 학습률 스케줄러입니다.\n",
        "\n",
        "#optimizer: 학습률을 조정할 옵티마이저를 지정합니다.\n",
        "#step_size=10: 매 10 에폭마다 학습률을 조정합니다.\n",
        "#gamma=0.1: 학습률을 0.1배로 감소시킵니다. 예를 들어, 초기 학습률이 0.001이었다면, 10 에폭 후에는 0.0001이 됩니다. 학습이 진행될 때마다 학습률을 점진적으로 줄여 모델이 더 세밀하게 학습할 수 있도록 합니다."
      ]
    },
    {
      "cell_type": "markdown",
      "source": [
        "# **Train the network**\n",
        "\n",
        "Train your own network using the above loss function and optimizer."
      ],
      "metadata": {
        "id": "DInMRCnReWno"
      }
    },
    {
      "cell_type": "code",
      "execution_count": null,
      "metadata": {
        "colab": {
          "base_uri": "https://localhost:8080/",
          "height": 391
        },
        "id": "2vvD0eNCpqxj",
        "outputId": "a9c4d441-9700-4d9c-f967-5cd4f5460f34"
      },
      "outputs": [
        {
          "output_type": "stream",
          "name": "stdout",
          "text": [
            "[Epoch - 1, Iteration -  5000] Loss: 1.687\n"
          ]
        },
        {
          "output_type": "error",
          "ename": "KeyboardInterrupt",
          "evalue": "",
          "traceback": [
            "\u001b[0;31m---------------------------------------------------------------------------\u001b[0m",
            "\u001b[0;31mKeyboardInterrupt\u001b[0m                         Traceback (most recent call last)",
            "\u001b[0;32m<ipython-input-13-b70dbb31a100>\u001b[0m in \u001b[0;36m<cell line: 4>\u001b[0;34m()\u001b[0m\n\u001b[1;32m     20\u001b[0m         \u001b[0;31m# Optimize the network\u001b[0m\u001b[0;34m\u001b[0m\u001b[0;34m\u001b[0m\u001b[0m\n\u001b[1;32m     21\u001b[0m         \u001b[0moptimizer\u001b[0m\u001b[0;34m.\u001b[0m\u001b[0mzero_grad\u001b[0m\u001b[0;34m(\u001b[0m\u001b[0;34m)\u001b[0m\u001b[0;34m\u001b[0m\u001b[0;34m\u001b[0m\u001b[0m\n\u001b[0;32m---> 22\u001b[0;31m         \u001b[0mloss\u001b[0m\u001b[0;34m.\u001b[0m\u001b[0mbackward\u001b[0m\u001b[0;34m(\u001b[0m\u001b[0;34m)\u001b[0m\u001b[0;34m\u001b[0m\u001b[0;34m\u001b[0m\u001b[0m\n\u001b[0m\u001b[1;32m     23\u001b[0m         \u001b[0moptimizer\u001b[0m\u001b[0;34m.\u001b[0m\u001b[0mstep\u001b[0m\u001b[0;34m(\u001b[0m\u001b[0;34m)\u001b[0m\u001b[0;34m\u001b[0m\u001b[0;34m\u001b[0m\u001b[0m\n\u001b[1;32m     24\u001b[0m \u001b[0;34m\u001b[0m\u001b[0m\n",
            "\u001b[0;32m/usr/local/lib/python3.10/dist-packages/torch/_tensor.py\u001b[0m in \u001b[0;36mbackward\u001b[0;34m(self, gradient, retain_graph, create_graph, inputs)\u001b[0m\n\u001b[1;32m    520\u001b[0m                 \u001b[0minputs\u001b[0m\u001b[0;34m=\u001b[0m\u001b[0minputs\u001b[0m\u001b[0;34m,\u001b[0m\u001b[0;34m\u001b[0m\u001b[0;34m\u001b[0m\u001b[0m\n\u001b[1;32m    521\u001b[0m             )\n\u001b[0;32m--> 522\u001b[0;31m         torch.autograd.backward(\n\u001b[0m\u001b[1;32m    523\u001b[0m             \u001b[0mself\u001b[0m\u001b[0;34m,\u001b[0m \u001b[0mgradient\u001b[0m\u001b[0;34m,\u001b[0m \u001b[0mretain_graph\u001b[0m\u001b[0;34m,\u001b[0m \u001b[0mcreate_graph\u001b[0m\u001b[0;34m,\u001b[0m \u001b[0minputs\u001b[0m\u001b[0;34m=\u001b[0m\u001b[0minputs\u001b[0m\u001b[0;34m\u001b[0m\u001b[0;34m\u001b[0m\u001b[0m\n\u001b[1;32m    524\u001b[0m         )\n",
            "\u001b[0;32m/usr/local/lib/python3.10/dist-packages/torch/autograd/__init__.py\u001b[0m in \u001b[0;36mbackward\u001b[0;34m(tensors, grad_tensors, retain_graph, create_graph, grad_variables, inputs)\u001b[0m\n\u001b[1;32m    264\u001b[0m     \u001b[0;31m# some Python versions print out the first line of a multi-line function\u001b[0m\u001b[0;34m\u001b[0m\u001b[0;34m\u001b[0m\u001b[0m\n\u001b[1;32m    265\u001b[0m     \u001b[0;31m# calls in the traceback and some print out the last line\u001b[0m\u001b[0;34m\u001b[0m\u001b[0;34m\u001b[0m\u001b[0m\n\u001b[0;32m--> 266\u001b[0;31m     Variable._execution_engine.run_backward(  # Calls into the C++ engine to run the backward pass\n\u001b[0m\u001b[1;32m    267\u001b[0m         \u001b[0mtensors\u001b[0m\u001b[0;34m,\u001b[0m\u001b[0;34m\u001b[0m\u001b[0;34m\u001b[0m\u001b[0m\n\u001b[1;32m    268\u001b[0m         \u001b[0mgrad_tensors_\u001b[0m\u001b[0;34m,\u001b[0m\u001b[0;34m\u001b[0m\u001b[0;34m\u001b[0m\u001b[0m\n",
            "\u001b[0;31mKeyboardInterrupt\u001b[0m: "
          ]
        }
      ],
      "source": [
        "# Train the model\n",
        "#에폭 수 설정:\n",
        "epochs = 5  # number of epochs 에폭은 데이터셋 전체를 한 번 학습하는 주기를 의미합니다.\n",
        "\n",
        "#에폭 루프:\n",
        "for epoch in range(epochs): #에폭 루프: 설정된 에폭 수만큼 훈련을 반복합니다.\n",
        "\n",
        "    loss_tmp = 0.0 #loss_tmp = 0.0: 미니 배치의 손실 값을 누적할 변수입니다.\n",
        "    epoch_loss = 0.0 #epoch_loss = 0.0: 전체 에폭 동안의 손실 값을 누적할 변수입니다.\n",
        "\n",
        "#미니 배치 루프:\n",
        "    for i, data in enumerate(trainloader, start=0):\n",
        "   #for i, data in enumerate(trainloader, start=0): trainloader에서 데이터를 하나씩 가져와 반복합니다. i는 반복 횟수(인덱스)를 나타내고, data는 배치 데이터를 나타냅니다.\n",
        "   #trainloader에서 배치 단위로 데이터를 가져와 학습합니다.\n",
        "        # Load the data\n",
        "        inputs, labels = data #data에서 입력 데이터와 레이블을 분리합니다.\n",
        "        inputs = inputs.to(device) #입력 데이터를 지정된 장치(device, 보통 GPU)로 이동시킵니다.\n",
        "        labels = labels.to(device) #레이블 데이터를 지정된 장치(device)로 이동시킵니다.\n",
        "\n",
        "        # Estimate the output using the network\n",
        "        outputs = net(inputs) #네트워크 net을 사용하여 입력 데이터에 대한 예측값을 계산합니다.\n",
        "\n",
        "        # Calculate the loss between the output of the network and label\n",
        "        loss = criterion(outputs, labels) #loss = criterion(outputs, labels): 예측값(outputs)과 실제 레이블(labels) 간의 손실을 계산합니다. 여기서는 교차 엔트로피 손실을 사용합니다.\n",
        "\n",
        "        # Optimize the network\n",
        "        optimizer.zero_grad() #optimizer.zero_grad(): 이전 미니 배치의 그래디언트를 초기화합니다.\n",
        "        loss.backward() #loss.backward(): 역전파(backpropagation)를 통해 그래디언트를 계산합니다.\n",
        "        optimizer.step() #optimizer.step(): 옵티마이저를 사용하여 파라미터를 업데이트합니다.\n",
        "\n",
        "        loss_tmp += loss.data #현재 배치의 손실을 loss_tmp에 누적합니다.\n",
        "        epoch_loss += loss.data #현재 배치의 손실을 epoch_loss에 누적합니다.\n",
        "\n",
        "        if i % 5000 == 4999:    # 매 5000번째 미니 배치마다 손실을 출력합니다.\n",
        "            print('[Epoch - %d, Iteration - %5d] Loss: %.3f' % #현재 에폭과 미니 배치 손실을 출력합니다.\n",
        "                  (epoch + 1, i + 1, loss_tmp / (i+1)))\n",
        "            loss_tmp = 0.0 #loss_tmp를 초기화합니다.\n",
        "\n",
        "#학습률 스케줄러 업데이트:\n",
        "    # Update the learning rate according to the learnig rate scheduler\n",
        "    scheduler.step() #에폭이 끝날 때마다 학습률 스케줄러를 업데이트합니다.\n",
        "\n",
        "#에폭 손실 출력:\n",
        "    # Print the epoch loss\n",
        "    print('[Epoch - %d] Loss: %.3f' %(epoch + 1, epoch_loss / (i+1))) #현재 에폭의 평균 손실을 출력합니다.\n",
        "\n",
        "#훈련 완료 메시지 출력:\n",
        "print('Finished Training')"
      ]
    },
    {
      "cell_type": "markdown",
      "source": [
        "# **Test the network**\n",
        "\n",
        "Test the trained network using the testset.\n",
        "\n",
        "Accuracy of the network on the 10,000 test images is the final accuracy of your network.\n",
        "\n",
        "The closer the accuray is to 100%, the better the network classifies the input image."
      ],
      "metadata": {
        "id": "CgDA6_LlfNhE"
      }
    },
    {
      "cell_type": "code",
      "execution_count": null,
      "metadata": {
        "colab": {
          "base_uri": "https://localhost:8080/",
          "height": 230
        },
        "id": "fNfptwqLqpdA",
        "outputId": "190348c3-a125-44dd-ff3b-727a39610f52"
      },
      "outputs": [
        {
          "output_type": "stream",
          "name": "stdout",
          "text": [
            "GroundTruth:    cat  ship  ship plane\n",
            "Predicted:    cat  ship   car  ship\n"
          ]
        },
        {
          "output_type": "display_data",
          "data": {
            "text/plain": [
              "<Figure size 640x480 with 1 Axes>"
            ],
            "image/png": "[encoded data removed]"
          },
          "metadata": {}
        }
      ],
      "source": [
        "# Test the trained model with sample\n",
        "#테스트 데이터 준비:\n",
        "dataiter_test = iter(testloader) #testloader의 반복자(iterator)를 생성합니다.\n",
        "img_test, labels_test = next(dataiter_test) # testloader에서 한 배치의 테스트 데이터를 가져옵니다. img_test는 이미지 배치이고, labels_test는 해당 배치의 레이블입니다.\n",
        "\n",
        "imshow(torchvision.utils.make_grid(img_test)) #배치에서 가져온 이미지를 그리드 형식으로 보여줍니다. imshow 함수는 이미지를 시각화합니다.\n",
        "print('GroundTruth: ', ' '.join('%5s' % classes[labels_test[j]] for j in range(4))) # 실제 레이블(정답)을 출력합니다. classes 리스트를 사용하여 숫자 레이블을 문자로 변환합니다.\n",
        "\n",
        "#데이터 장치 이동:\n",
        "img_test = img_test.to(device) #테스트 이미지를 지정된 장치(device)로 이동시킵니다.\n",
        "labels_test = labels_test.to(device) #테스트 레이블을 지정된 장치(device)로 이동시킵니다.\n",
        "\n",
        "#모델 예측:\n",
        "outputs_test = net(img_test) #모델 net을 사용하여 테스트 이미지에 대한 예측값을 계산합니다.\n",
        "_, predicted = torch.max(outputs_test.data, 1) #예측값에서 최대값의 인덱스를 가져옵니다. 이 인덱스가 예측된 클래스입니다.\n",
        "print('Predicted: ', ' '.join('%5s' % classes[predicted[j]] for j in range(4)))\n",
        "#모델이 예측한 레이블을 출력합니다. classes 리스트를 사용하여 숫자 레이블을 문자로 변환합니다."
      ]
    },
    {
      "cell_type": "code",
      "execution_count": null,
      "metadata": {
        "colab": {
          "base_uri": "https://localhost:8080/"
        },
        "id": "DNrXRT1NrJft",
        "outputId": "fce0313a-3d74-4e7c-c782-aeae88d1a1a2"
      },
      "outputs": [
        {
          "output_type": "stream",
          "name": "stdout",
          "text": [
            "Accuracy of the network on the 10,000 test images: 8 %\n"
          ]
        }
      ],
      "source": [
        "# Test the trained model with overall test dataset\n",
        "\n",
        "#변수 초기화:\n",
        "correct = 0 #정확히 예측한 샘플 수를 저장하는 변수입니다.\n",
        "total = 0 #전체 샘플 수를 저장하는 변수입니다.\n",
        "\n",
        "#테스트 데이터 루프:\n",
        "for data in testloader: #testloader에서 배치 단위로 데이터를 반복합니다.\n",
        "    # Load the data\n",
        "    inputs_test, labels_test = data #data에서 입력 이미지와 레이블을 분리합니다.\n",
        "    inputs_test = inputs_test.to(device) #입력 이미지를 지정된 장치(device)로 이동시킵니다.\n",
        "    labels_test = labels_test.to(device) #레이블을 지정된 장치(device)로 이동시킵니다.\n",
        "\n",
        "    # Estimate the output using the trained network\n",
        "    outputs_test = net(inputs_test) #네트워크 net을 사용하여 입력 이미지에 대한 예측값을 계산합니다.\n",
        "    _, predicted = torch.max(outputs_test.data, 1) #예측값에서 최대값의 인덱스를 가져옵니다. 이 인덱스가 예측된 클래스입니다.\n",
        "\n",
        "#정확도 계산:\n",
        "    # Calculate the accuracy\n",
        "    total += labels.size(0) #현재 배치의 전체 샘플 수를 total에 추가합니다.\n",
        "    correct += (predicted == labels).sum() #현재 배치에서 정확히 예측한 샘플 수를 correct에 추가합니다. item() 메서드를 사용하여 텐서에서 값을 추출합니다.\n",
        "\n",
        "#최종 정확도 출력:\n",
        "print('Accuracy of the network on the 10,000 test images: %d %%' % (100 * correct / total)) #테스트 데이터셋에 대한 모델의 최종 정확도를 출력합니다.\n",
        "\n",
        "\n",
        "## [SimpleNet / Training 5 epochs] Accuracy of the network on the 10,000 test images: 9 %\n",
        "## [VGG11 / Training 5 epochs] Accuracy of the network on the 10,000 test images: 12 %"
      ]
    }
  ],
  "metadata": {
    "colab": {
      "provenance": [],
      "gpuType": "T4"
    },
    "gpuClass": "standard",
    "kernelspec": {
      "display_name": "Python 3",
      "name": "python3"
    },
    "language_info": {
      "name": "python"
    },
    "accelerator": "GPU"
  },
  "nbformat": 4,
  "nbformat_minor": 0
}